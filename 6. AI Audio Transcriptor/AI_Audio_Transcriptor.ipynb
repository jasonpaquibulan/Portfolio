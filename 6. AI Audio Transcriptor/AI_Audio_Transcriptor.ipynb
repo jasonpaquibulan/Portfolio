{
  "cells": [
    {
      "cell_type": "code",
      "execution_count": 1,
      "metadata": {
        "colab": {
          "base_uri": "https://localhost:8080/"
        },
        "id": "fPKdtjKRTUXF",
        "outputId": "02960974-704f-4f1c-ee40-0a231de3b74c"
      },
      "outputs": [
        {
          "name": "stdout",
          "output_type": "stream",
          "text": [
            "Collecting openai\n",
            "  Downloading openai-1.13.3-py3-none-any.whl (227 kB)\n",
            "\u001b[2K     \u001b[90m━━━━━━━━━━━━━━━━━━━━━━━━━━━━━━━━━━━━━━━━\u001b[0m \u001b[32m227.4/227.4 kB\u001b[0m \u001b[31m2.4 MB/s\u001b[0m eta \u001b[36m0:00:00\u001b[0m\n",
            "\u001b[?25hRequirement already satisfied: anyio<5,>=3.5.0 in /usr/local/lib/python3.10/dist-packages (from openai) (3.7.1)\n",
            "Requirement already satisfied: distro<2,>=1.7.0 in /usr/lib/python3/dist-packages (from openai) (1.7.0)\n",
            "Collecting httpx<1,>=0.23.0 (from openai)\n",
            "  Downloading httpx-0.27.0-py3-none-any.whl (75 kB)\n",
            "\u001b[2K     \u001b[90m━━━━━━━━━━━━━━━━━━━━━━━━━━━━━━━━━━━━━━━━\u001b[0m \u001b[32m75.6/75.6 kB\u001b[0m \u001b[31m6.3 MB/s\u001b[0m eta \u001b[36m0:00:00\u001b[0m\n",
            "\u001b[?25hRequirement already satisfied: pydantic<3,>=1.9.0 in /usr/local/lib/python3.10/dist-packages (from openai) (2.6.3)\n",
            "Requirement already satisfied: sniffio in /usr/local/lib/python3.10/dist-packages (from openai) (1.3.1)\n",
            "Requirement already satisfied: tqdm>4 in /usr/local/lib/python3.10/dist-packages (from openai) (4.66.2)\n",
            "Requirement already satisfied: typing-extensions<5,>=4.7 in /usr/local/lib/python3.10/dist-packages (from openai) (4.10.0)\n",
            "Requirement already satisfied: idna>=2.8 in /usr/local/lib/python3.10/dist-packages (from anyio<5,>=3.5.0->openai) (3.6)\n",
            "Requirement already satisfied: exceptiongroup in /usr/local/lib/python3.10/dist-packages (from anyio<5,>=3.5.0->openai) (1.2.0)\n",
            "Requirement already satisfied: certifi in /usr/local/lib/python3.10/dist-packages (from httpx<1,>=0.23.0->openai) (2024.2.2)\n",
            "Collecting httpcore==1.* (from httpx<1,>=0.23.0->openai)\n",
            "  Downloading httpcore-1.0.4-py3-none-any.whl (77 kB)\n",
            "\u001b[2K     \u001b[90m━━━━━━━━━━━━━━━━━━━━━━━━━━━━━━━━━━━━━━━━\u001b[0m \u001b[32m77.8/77.8 kB\u001b[0m \u001b[31m7.4 MB/s\u001b[0m eta \u001b[36m0:00:00\u001b[0m\n",
            "\u001b[?25hCollecting h11<0.15,>=0.13 (from httpcore==1.*->httpx<1,>=0.23.0->openai)\n",
            "  Downloading h11-0.14.0-py3-none-any.whl (58 kB)\n",
            "\u001b[2K     \u001b[90m━━━━━━━━━━━━━━━━━━━━━━━━━━━━━━━━━━━━━━━━\u001b[0m \u001b[32m58.3/58.3 kB\u001b[0m \u001b[31m5.8 MB/s\u001b[0m eta \u001b[36m0:00:00\u001b[0m\n",
            "\u001b[?25hRequirement already satisfied: annotated-types>=0.4.0 in /usr/local/lib/python3.10/dist-packages (from pydantic<3,>=1.9.0->openai) (0.6.0)\n",
            "Requirement already satisfied: pydantic-core==2.16.3 in /usr/local/lib/python3.10/dist-packages (from pydantic<3,>=1.9.0->openai) (2.16.3)\n",
            "Installing collected packages: h11, httpcore, httpx, openai\n",
            "Successfully installed h11-0.14.0 httpcore-1.0.4 httpx-0.27.0 openai-1.13.3\n"
          ]
        }
      ],
      "source": [
        "pip install openai\n"
      ]
    },
    {
      "cell_type": "code",
      "execution_count": 2,
      "metadata": {
        "colab": {
          "base_uri": "https://localhost:8080/"
        },
        "id": "foacKlAiTfrt",
        "outputId": "21f2f435-e80b-4449-b783-d70031065ce8"
      },
      "outputs": [
        {
          "name": "stdout",
          "output_type": "stream",
          "text": [
            "Mounted at /content/drive\n"
          ]
        }
      ],
      "source": [
        "from openai import OpenAI\n",
        "from google.colab import drive\n",
        "\n",
        "# Mount Google Drive\n",
        "drive.mount('/content/drive')\n"
      ]
    },
    {
      "cell_type": "code",
      "execution_count": 3,
      "metadata": {
        "colab": {
          "base_uri": "https://localhost:8080/"
        },
        "id": "NxH72Z7yu5Cg",
        "outputId": "58459237-51db-4de4-dbad-7ebc2574fc1a"
      },
      "outputs": [
        {
          "name": "stdout",
          "output_type": "stream",
          "text": [
            "Requirement already satisfied: librosa in /usr/local/lib/python3.10/dist-packages (0.10.1)\n",
            "Collecting noisereduce\n",
            "  Downloading noisereduce-3.0.0-py3-none-any.whl (22 kB)\n",
            "Requirement already satisfied: audioread>=2.1.9 in /usr/local/lib/python3.10/dist-packages (from librosa) (3.0.1)\n",
            "Requirement already satisfied: numpy!=1.22.0,!=1.22.1,!=1.22.2,>=1.20.3 in /usr/local/lib/python3.10/dist-packages (from librosa) (1.23.5)\n",
            "Requirement already satisfied: scipy>=1.2.0 in /usr/local/lib/python3.10/dist-packages (from librosa) (1.11.4)\n",
            "Requirement already satisfied: scikit-learn>=0.20.0 in /usr/local/lib/python3.10/dist-packages (from librosa) (1.2.2)\n",
            "Requirement already satisfied: joblib>=0.14 in /usr/local/lib/python3.10/dist-packages (from librosa) (1.3.2)\n",
            "Requirement already satisfied: decorator>=4.3.0 in /usr/local/lib/python3.10/dist-packages (from librosa) (4.4.2)\n",
            "Requirement already satisfied: numba>=0.51.0 in /usr/local/lib/python3.10/dist-packages (from librosa) (0.58.1)\n",
            "Requirement already satisfied: soundfile>=0.12.1 in /usr/local/lib/python3.10/dist-packages (from librosa) (0.12.1)\n",
            "Requirement already satisfied: pooch>=1.0 in /usr/local/lib/python3.10/dist-packages (from librosa) (1.8.1)\n",
            "Requirement already satisfied: soxr>=0.3.2 in /usr/local/lib/python3.10/dist-packages (from librosa) (0.3.7)\n",
            "Requirement already satisfied: typing-extensions>=4.1.1 in /usr/local/lib/python3.10/dist-packages (from librosa) (4.10.0)\n",
            "Requirement already satisfied: lazy-loader>=0.1 in /usr/local/lib/python3.10/dist-packages (from librosa) (0.3)\n",
            "Requirement already satisfied: msgpack>=1.0 in /usr/local/lib/python3.10/dist-packages (from librosa) (1.0.8)\n",
            "Requirement already satisfied: matplotlib in /usr/local/lib/python3.10/dist-packages (from noisereduce) (3.7.1)\n",
            "Requirement already satisfied: tqdm in /usr/local/lib/python3.10/dist-packages (from noisereduce) (4.66.2)\n",
            "Requirement already satisfied: llvmlite<0.42,>=0.41.0dev0 in /usr/local/lib/python3.10/dist-packages (from numba>=0.51.0->librosa) (0.41.1)\n",
            "Requirement already satisfied: platformdirs>=2.5.0 in /usr/local/lib/python3.10/dist-packages (from pooch>=1.0->librosa) (4.2.0)\n",
            "Requirement already satisfied: packaging>=20.0 in /usr/local/lib/python3.10/dist-packages (from pooch>=1.0->librosa) (23.2)\n",
            "Requirement already satisfied: requests>=2.19.0 in /usr/local/lib/python3.10/dist-packages (from pooch>=1.0->librosa) (2.31.0)\n",
            "Requirement already satisfied: threadpoolctl>=2.0.0 in /usr/local/lib/python3.10/dist-packages (from scikit-learn>=0.20.0->librosa) (3.3.0)\n",
            "Requirement already satisfied: cffi>=1.0 in /usr/local/lib/python3.10/dist-packages (from soundfile>=0.12.1->librosa) (1.16.0)\n",
            "Requirement already satisfied: contourpy>=1.0.1 in /usr/local/lib/python3.10/dist-packages (from matplotlib->noisereduce) (1.2.0)\n",
            "Requirement already satisfied: cycler>=0.10 in /usr/local/lib/python3.10/dist-packages (from matplotlib->noisereduce) (0.12.1)\n",
            "Requirement already satisfied: fonttools>=4.22.0 in /usr/local/lib/python3.10/dist-packages (from matplotlib->noisereduce) (4.49.0)\n",
            "Requirement already satisfied: kiwisolver>=1.0.1 in /usr/local/lib/python3.10/dist-packages (from matplotlib->noisereduce) (1.4.5)\n",
            "Requirement already satisfied: pillow>=6.2.0 in /usr/local/lib/python3.10/dist-packages (from matplotlib->noisereduce) (9.4.0)\n",
            "Requirement already satisfied: pyparsing>=2.3.1 in /usr/local/lib/python3.10/dist-packages (from matplotlib->noisereduce) (3.1.2)\n",
            "Requirement already satisfied: python-dateutil>=2.7 in /usr/local/lib/python3.10/dist-packages (from matplotlib->noisereduce) (2.8.2)\n",
            "Requirement already satisfied: pycparser in /usr/local/lib/python3.10/dist-packages (from cffi>=1.0->soundfile>=0.12.1->librosa) (2.21)\n",
            "Requirement already satisfied: six>=1.5 in /usr/local/lib/python3.10/dist-packages (from python-dateutil>=2.7->matplotlib->noisereduce) (1.16.0)\n",
            "Requirement already satisfied: charset-normalizer<4,>=2 in /usr/local/lib/python3.10/dist-packages (from requests>=2.19.0->pooch>=1.0->librosa) (3.3.2)\n",
            "Requirement already satisfied: idna<4,>=2.5 in /usr/local/lib/python3.10/dist-packages (from requests>=2.19.0->pooch>=1.0->librosa) (3.6)\n",
            "Requirement already satisfied: urllib3<3,>=1.21.1 in /usr/local/lib/python3.10/dist-packages (from requests>=2.19.0->pooch>=1.0->librosa) (2.0.7)\n",
            "Requirement already satisfied: certifi>=2017.4.17 in /usr/local/lib/python3.10/dist-packages (from requests>=2.19.0->pooch>=1.0->librosa) (2024.2.2)\n",
            "Installing collected packages: noisereduce\n",
            "Successfully installed noisereduce-3.0.0\n"
          ]
        }
      ],
      "source": [
        "pip install librosa noisereduce\n"
      ]
    },
    {
      "cell_type": "code",
      "execution_count": 4,
      "metadata": {
        "id": "hFopJcdufsuj"
      },
      "outputs": [],
      "source": [
        "#REDUCE BACKGROUND NOISE"
      ]
    },
    {
      "cell_type": "code",
      "execution_count": 5,
      "metadata": {
        "colab": {
          "base_uri": "https://localhost:8080/"
        },
        "id": "J66O-fIdznnC",
        "outputId": "ecf79564-028f-480e-a136-fbac347fb090"
      },
      "outputs": [
        {
          "name": "stdout",
          "output_type": "stream",
          "text": [
            "Collecting ffmpeg-python\n",
            "  Downloading ffmpeg_python-0.2.0-py3-none-any.whl (25 kB)\n",
            "Requirement already satisfied: future in /usr/local/lib/python3.10/dist-packages (from ffmpeg-python) (0.18.3)\n",
            "Installing collected packages: ffmpeg-python\n",
            "Successfully installed ffmpeg-python-0.2.0\n"
          ]
        }
      ],
      "source": [
        "pip install ffmpeg-python"
      ]
    },
    {
      "cell_type": "code",
      "execution_count": 6,
      "metadata": {
        "colab": {
          "base_uri": "https://localhost:8080/"
        },
        "id": "dZXUAOjRzqQx",
        "outputId": "0e1a3e82-c797-438c-b0b1-fdd18a0709b5"
      },
      "outputs": [
        {
          "name": "stdout",
          "output_type": "stream",
          "text": [
            "Collecting pydub\n",
            "  Downloading pydub-0.25.1-py2.py3-none-any.whl (32 kB)\n",
            "Installing collected packages: pydub\n",
            "Successfully installed pydub-0.25.1\n"
          ]
        }
      ],
      "source": [
        "pip install pydub"
      ]
    },
    {
      "cell_type": "code",
      "execution_count": 7,
      "metadata": {
        "id": "7eZdwhPKfsyF"
      },
      "outputs": [],
      "source": [
        "from pydub import AudioSegment\n",
        "from pydub.playback import play\n",
        "import ffmpeg\n",
        "\n",
        "def convert_m4a_to_wav(input_file, output_file):\n",
        "    # Load the .m4a file\n",
        "    audio = AudioSegment.from_file(input_file, format=\"m4a\")\n",
        "\n",
        "    # Export the audio to .wav format\n",
        "    audio.export(output_file, format=\"wav\")\n",
        "\n",
        "# Example usage:\n",
        "input_m4a_file = \"/content/drive/MyDrive/New Recording 18.m4a\"\n",
        "output_wav_file = \"/content/drive/MyDrive/New Recording 18.wav\"\n",
        "\n",
        "convert_m4a_to_wav(input_m4a_file, output_wav_file)\n"
      ]
    },
    {
      "cell_type": "code",
      "execution_count": 10,
      "metadata": {
        "id": "f6YdT-Ib0KHH"
      },
      "outputs": [],
      "source": [
        "# from pydub import AudioSegment\n",
        "# from pydub.playback import play\n",
        "# import noisereduce as nr\n",
        "\n",
        "# def remove_background_noise(input_file, output_file):\n",
        "#     # Load the .wav file\n",
        "#     audio = AudioSegment.from_file(input_file, format=\"wav\")\n",
        "\n",
        "#     # Convert the AudioSegment to a NumPy array\n",
        "#     audio_array = audio.get_array_of_samples()\n",
        "\n",
        "#     # Apply noise reduction\n",
        "#     reduced_noise = nr.reduce_noise(audio_array, sr)\n",
        "\n",
        "#     # Convert the reduced noise array back to an AudioSegment\n",
        "#     reduced_noise_audio = AudioSegment(\n",
        "#         reduced_noise.tobytes(),\n",
        "#         frame_rate=audio.frame_rate,\n",
        "#         sample_width=reduced_noise.itemsize,\n",
        "#         channels=audio.channels\n",
        "#     )\n",
        "\n",
        "#     # Export the cleaned audio to a new .wav file\n",
        "#     reduced_noise_audio.export(output_file, format=\"wav\")\n",
        "\n",
        "# # Example usage:\n",
        "# input_wav_file = \"/content/drive/MyDrive/New Recording 18.wav\"\n",
        "# output_cleaned_file = \"/content/drive/MyDrive/New Recording 18-removedbackground.wav\"\n",
        "\n",
        "# remove_background_noise(input_wav_file, output_cleaned_file)\n"
      ]
    },
    {
      "cell_type": "code",
      "execution_count": 9,
      "metadata": {
        "colab": {
          "base_uri": "https://localhost:8080/"
        },
        "id": "cjknTBsmUHQj",
        "outputId": "b8446c14-f906-4bac-e42e-252e3358e38a"
      },
      "outputs": [
        {
          "name": "stdout",
          "output_type": "stream",
          "text": [
            "This is a request from the main distribution owner and the good counsel of the government. We will politely conduct this process to bring about the 3 speakeasy's for the 65 years old, as an intervention and as an emergency recovery. Okay, I'm not tangled so I will never raise my voice too high. Good morning Madam Witness. Madam Witness, you are filing this case for injunction, I mean action received for TRO or criminal injunction of ICORES. You are filing this case for injunction of TRO? Yes Sir. For what reason Madam Witness? For what reason you are filing this case? For what reason? I'm not tangled so I will never raise my voice too high. For what reason you are filing this case for injunction of TRO? What is your opinion on TRO? We are here to inform you that we are here to inform you that we are here to inform you that we are here to inform you. We are here to inform you. We are here to inform you. We are here to inform you. We are here to inform you. We are here to inform you. We are here to inform you. We filed this case because I'm a child of Maria and Lorenzo Haguros. Because I'm a child of Maria and Lorenzo Haguros. Now you are filing a case against Fabian Gabotan and others. Why are you filing a case against them? Why are you filing a case against Fabian Gabotan and others? Because they will not vacate the property. Because they will not vacate the property. According to your thinking, you now ask a question in that accordance. The market and controversy in Madam McNesh is that 6335 does aid. Located in?                              Located in? Located in? Located in? Located in? Yes, sir.                                    May mga barangay may barangay may barangay may barangay may barangay may barangay may barangay may barangay may barangay may barangay may barangay may barangay may barangay may barangay may barangay may barangay may barangay may barangay may barangay may barangay may barangay may barangay may barangay may barangay may barangay may barangay may barangay may barangay may barangay may barangay may barangay may barangay may barangay may barangay may barangay may barangay may barangay may barangay may barangay may barangay may barangay may barangay may barangay may barangay may barangay may barangay may barangay may barangay may barangay may barangay may barangay may barangay may barangay may barangay may bar The title of the property stated that the property is situated in Cebu City. Ang titlo aninita na kasuat na ang nani sya na inutang sa Cebu City. Yes, your honor. Now, there was an answer by you that they are situated in Zambagdos and Guadalupe. By the way, what is the specific location or barangay of the property? Is it Zambagdos or Guadalupe? Masa may specific na barangay na inutangan aninita? Zambagdos or Guadalupe? Guadalupe naman pero sityo Zambagdos. It is in Guadalupe, your honor, but the sityo is sityo Zambagdos. So, this sityo Zambagdos in Guadalupe is a different location with barangay Zambagdos? Kaning sityo Zambagdos sa Guadalupe lahit ni siya sa barangay Zambagdos. Yes, your honor. Okay, proceed. Ituloy pa rin ako kay kininingupa ng tagapilar. Ano yung majestices? O kay iba? O ano? Okay, proceed. Okay, madam witness, this subject to Act 635-A. This was registered in the name of Lorenzo Javaros Maric to Maria Maria Corti and Silvina Bogota Maric to Juan Guizon. Ang titulo ay inimuta sa 635-A, nakare-registero sa pangang ni Lorenzo Javaros na naminiyok ang Maria Maria Corti. Yes, sir. It is a fact, madam witness, that you are filing the case against the defendant in order to restrain him from re-interring or rebuilding the house that you have identified. Yes, sir. Mga nangyayarihan niyo ang mga defendant. Di nangyayarihan niyo ang mga defendant kahit inyong pungan sila o inyong silang tawakon sa maungyong pag-ubili na ninyo sa pasok mong balik o na. Yes, sir. Yes, sir. Yes, sir. Yes, sir. Yes, sir. Yes, sir. Yes, sir. Yes, sir. Yes, sir. Yes, sir. Yes, sir. Yes, sir. Yes, sir. Yes, sir. Yes, sir. Yes, sir. Yes, sir. Yes, sir. Yes, sir. Yes, sir. Yes, sir. Yes, sir. Yes, sir. Yes, sir. Yes, sir. Yes, sir. Yes, sir. Yes, sir. Yes, sir. Yes, sir. Yes, sir. Yes, sir. Yes, sir. Yes, sir. Yes, sir. Yes, sir. Yes, sir. Yes, sir. Yes, sir. Yes, sir. Yes, sir. Yes, sir. Yes, sir. Yes, sir. Yes, sir. Yes, sir. Yes, sir. Yes, sir. Yes, sir. Yes, sir. Yes, sir. Yes, sir. Yes, sir. Yes, sir. Yes, sir. Yes, sir. Yes, sir. Yes, sir. Yes, sir. Yes, sir. Yes, sir. Yes, sir. Yes, sir. Yes, sir. Yes, sir. Yes, sir. Yes, sir. Yes, sir. Yes, sir. Yes, sir. Yes, sir. Yes, sir. Yes, sir. Yes, sir. Yes, sir. Yes, sir. Yes, sir. Yes, sir. Yes, sir. Yes, sir. Yes, sir. Yes, sir. Yes, sir. Yes, sir. Yes, sir. Yes, sir. Yes, sir. Yes, sir. Yes, sir. Yes, sir. Yes, sir. Yes, sir. Yes, sir. Yes, sir. Yes, sir. Yes, sir. Yes, sir. Yes, sir. Yes, sir. Yes, sir. Yes, sir. Yes, sir. Yes, sir. Yes, sir. Yes, sir. Yes, sir. Yes, sir. Yes, sir. Yes, sir. Yes, sir. Yes, sir. Yes, sir. Yes, sir. Yes, sir. Yes, sir. Yes, sir. Yes, sir. Yes, sir. Yes, sir. Yes, sir. Yes, sir. Yes, sir. Yes, sir. Yes, sir. Yes, sir. Yes, sir. Yes, sir. Yes, sir. Yes, sir. Yes, sir. Yes, sir. Yes, sir. Yes, sir. Yes, sir. Yes, sir. Yes, sir. Yes, sir. Yes, sir. Yes, sir. Yes, sir. Yes, sir. Yes, sir. Yes, sir. Yes, sir. Yes, sir. Yes, sir. Yes, sir. Yes, sir. Yes, sir. Yes, sir. Yes, sir. Yes, sir. Yes, sir. Yes, sir. Yes, sir. Yes, sir. Yes, sir. Yes, sir. Yes, sir. Yes, sir. Yes, sir. Yes, sir. Yes, sir. Yes, sir. Yes, sir. Yes, sir. Yes, sir. Yes, sir. Yes, sir. Yes, sir. Yes, sir. Yes, sir. Yes, sir. Yes, sir. Yes, sir. Yes, sir. Yes, sir. Yes, sir. Yes, sir. Yes, sir. Yes, sir. Yes, sir. Yes, sir. Yes, sir. Yes, sir. Yes, sir. Yes, sir. Yes, sir. Yes, sir. Yes, sir. Yes, sir. Yes, sir. Yes, sir. Yes, sir. Yes, sir. Yes, sir. Yes, sir. Yes, sir. Yes, sir. Yes, sir. Yes, sir. Yes, sir. Yes, sir. Yes, sir. Yes, sir. Yes, sir. Yes, sir. Yes, sir. Yes, sir. Yes, sir. Yes, sir. Yes, sir. Yes, sir. Yes, sir. Yes, sir. Yes, sir. Yes, sir. Yes, sir. Yes, sir. Yes, sir. Yes, sir. Yes, sir. Yes, sir. Yes, sir. Yes, sir. Yes, sir. Yes, sir. Yes, sir. Yes, sir. Yes, sir. Yes, sir. Yes, sir. Yes, sir. Yes, sir. Yes, sir. Yes, sir. Yes, sir. Yes, sir. Yes, sir. Yes, sir. Yes, sir. Yes, sir. Yes, sir. Yes, sir. Yes, sir. Yes, sir. Yes, sir. Yes, sir. Yes, sir. Yes, sir. Yes, sir. Yes, sir. Yes, sir. Yes, sir. Yes, sir. Yes, sir. Yes, sir. Yes, sir. Yes, sir. Yes, sir. Yes, sir. Yes, sir. Yes, sir. Yes, sir. Yes, sir. Yes, sir. Yes, sir. Yes, sir. Yes, sir. Yes, sir. Yes, sir. Yes, sir. Yes, sir. Yes, sir. Yes, sir. Yes, sir. Yes, sir. Yes, sir. Yes, sir. Yes, sir. Yes, sir. Yes, sir. Yes, sir. Yes, sir. Yes, sir. Yes, sir. Yes, sir. Yes, sir. Yes, sir. Yes, sir. Yes, sir. Yes, sir. Yes, sir. Yes, sir. Yes, sir. Yes, sir. Yes, sir. Yes, sir. Yes, sir. Yes, sir. Yes, sir. Yes, sir. Yes, sir. Yes, sir. Yes, sir. Yes, sir. Yes, sir. Yes, sir. Yes, sir. Yes, sir. Yes, sir. Yes, sir. Yes, sir. Yes, sir. Yes, sir. Yes, sir. Yes, sir. Yes, sir. Yes, sir. Yes, sir. Yes, sir. Yes, sir. Yes, sir. Yes, sir. Yes, sir. Yes, sir. Yes, sir. Yes, sir. Yes, sir. Yes, sir. Yes, sir. Yes, sir. Yes, sir. Yes, sir. Yes, sir. Yes, sir. Yes, sir. Yes, sir. Yes, sir. Yes, sir. Yes, sir. Yes, sir. Yes, sir. Yes, sir. Yes, sir. Yes, sir. Yes, sir. Yes, sir. Yes, sir. Yes, sir. Yes, sir. Yes, sir. Yes, sir. Yes, sir. Yes, sir. Yes, sir. Yes, sir. Yes, sir. Yes, sir. Yes, sir. Yes, sir. Yes, sir. Yes, sir. Yes, sir. Yes, sir. Yes, sir. Yes, sir. Yes, sir. Yes, sir. Yes, sir. Yes, sir. Yes, sir. Yes, sir. Yes, sir. Yes, sir. Yes, sir. Yes, sir. Yes, sir. Yes, sir. Yes, sir. Yes, sir. Yes, sir. Yes, sir. Yes, sir. Yes, sir. Yes, sir. Yes, sir. Yes, sir. Yes, sir. Yes, sir. Yes, sir. Yes, sir. Yes, sir. Yes, sir. Yes, sir. Yes, sir. Yes, sir. Yes, sir. Yes, sir. Yes, sir. Yes, sir. Yes, sir. Yes, sir. Yes, sir. Yes, sir. Yes, sir. Yes, sir. Yes, sir. Yes, sir. Yes, sir. Yes, sir. Yes, sir. Yes, sir. Yes, sir. Yes, sir. Yes, sir. Yes, sir. Yes, sir. Yes, sir. Yes, sir. Yes, sir. Yes, sir. Yes, sir. Yes, sir. Yes, sir. Yes, sir. Yes, sir. Yes, sir. Yes, sir. Yes, sir. Yes, sir. Yes, sir. Yes, sir. Yes, sir. Yes, sir. Yes, sir. Yes, sir. Yes, sir. Yes, sir. Yes, sir. Yes, sir. Yes, sir. Yes, sir. Yes, sir. Yes, sir. Yes, sir. Yes, sir. Yes, sir. Yes, sir. Yes, sir. Yes, sir. Yes, sir. Yes, sir. Yes, sir. Yes, sir. Yes, sir. Yes, sir. Yes, sir. Yes, sir. Yes, sir. Yes, sir. Yes, sir. Yes, sir. Yes, sir. Yes, sir. Yes, sir. Yes, sir. Yes, sir. Yes, sir. Yes, sir. Yes, sir. Yes, sir. Yes, sir. Yes, sir. Yes, sir. Yes, sir. Yes, sir. Yes, sir. Yes, sir. Yes, sir. Yes, sir. Yes, sir. Yes, sir. Yes, sir. Yes, sir. Yes, sir. Yes, sir. Yes, sir. Yes, sir. Yes, sir. Yes, sir. Yes, sir. Yes, sir. Yes, sir. Yes, sir. Yes, sir. Yes, sir. Yes, sir. Yes, sir. Yes, sir. Yes, sir. Yes, sir. Yes, sir. Yes, sir. Yes, sir. Yes, sir. Yes, sir. Yes, sir. Yes, sir. Yes, sir. Yes, sir. Yes, sir. Yes, sir. Yes, sir. Yes, sir. Yes, sir. Yes, sir. Yes, sir. Yes, sir. Yes, sir. Yes, sir. Yes, sir. Yes, sir. Yes, sir. Yes, sir. Yes, sir. Yes, sir. Yes, sir. Yes, sir. Yes, sir. Yes, sir. Yes, sir. Yes, sir. Yes, sir. Yes, sir. Yes, sir. Yes, sir. Yes, sir. Yes, sir. Yes, sir. Yes, sir. Yes, sir. Yes, sir. Yes, sir. Yes, sir. Yes, sir. Yes, sir. Yes, sir. Yes, sir. Yes, sir. Yes, sir. Yes, sir. Yes, sir. Yes, sir. Yes, sir. Yes, sir. Yes, sir. Yes, sir. Yes, sir. Yes, sir. Yes, sir. Yes, sir. Yes, sir. Yes, sir. Yes, sir. Yes, sir. Yes, sir. Yes, sir. Yes, sir. Yes, sir. Yes, sir. Yes, sir. Yes, sir. Yes, sir. Yes, sir. Yes, sir. Yes, sir. Yes, sir. Yes, sir. Yes, sir. Yes, sir. Yes, sir. Yes, sir. Yes, sir. Yes, sir. Yes, sir. Yes, sir. Yes, sir. Yes, sir. Yes, sir. Yes, sir. Yes, sir. Yes, sir. Yes, sir. Yes, sir. Yes, sir. Yes, sir. Yes, sir. Yes, sir. Yes, sir. Yes, sir. Yes, sir. Yes, sir. Yes, sir. Yes, sir. Yes, sir. Yes, sir. Yes, sir. Yes, sir. Yes, sir. Yes, sir. Yes, sir. Yes, sir. Yes, sir. Yes, sir. Yes, sir. Yes, sir. Yes, sir. Yes, sir. Yes, sir. Yes, sir. Yes, sir. Yes, sir. Yes, sir. Yes, sir. Yes, sir. Yes, sir. Yes, sir. Yes, sir. Yes, sir. Yes, sir. Yes, sir. Yes, sir. Yes, sir. Yes, sir. Yes, sir. Yes, sir. Yes, sir. Yes, sir. Yes, sir. Yes, sir. Yes, sir. Yes, sir. Yes, sir. Yes, sir. Yes, sir. Yes, sir. Yes, sir. Yes, sir. Yes, sir. Yes, sir. Yes, sir. Yes, sir. Yes, sir. Yes, sir. Yes, sir. Yes, sir. Yes, sir. Yes, sir. Yes, sir. Yes, sir. Yes, sir. Yes, sir. Yes, sir. Yes, sir. Yes, sir. Yes, sir. Yes, sir. Yes, sir. Yes, sir. Yes, sir. Yes, sir. Yes, sir. Yes, sir. Yes, sir. Yes, sir. Yes, sir. Yes, sir. Yes, sir. Yes, sir. Yes, sir. Yes, sir. Yes, sir. Yes, sir. Yes, sir. Yes, sir. Yes, sir. Yes, sir. Yes, sir. Yes, sir. Yes, sir. Yes, sir. Yes, sir. Yes, sir. Yes, sir. Yes, sir. Yes, sir. Yes, sir. Yes, sir. Yes, sir. Yes, sir. Yes, sir. Yes, sir. Yes, sir. Yes, sir. Yes, sir. Yes, sir. Yes, sir. Yes, sir. Yes, sir. Yes, sir. Yes, sir. Yes, sir. Yes, sir. Yes, sir. Yes, sir. Yes, sir. Yes, sir. Yes, sir. Yes, sir. Yes, sir. Yes, sir. Yes, sir. Yes, sir. Yes, sir. Yes, sir. Yes, sir. Yes, sir. Yes, sir. Yes, sir. Yes, sir. Yes, sir. Yes, sir. Yes, sir. Yes, sir. Yes, sir. Yes, sir. Yes, sir. Yes, sir. Yes, sir. Yes, sir. Yes, sir. Yes, sir. Yes, sir. Yes, sir. Yes, sir. Yes, sir. Yes, sir. Yes, sir. Yes, sir. Yes, sir. Yes, sir. Yes, sir. Yes, sir. Yes, sir. Yes, sir. Yes, sir. Yes, sir. Yes, sir. Yes, sir. Yes, sir. Yes, sir. Yes, sir. Yes, sir. Yes, sir. Yes, sir. Yes, sir. Yes, sir. Yes, sir. Yes, sir. Yes, sir. Yes, sir. Yes, sir. Yes, sir. Yes, sir. Yes, sir. Yes, sir. Yes, sir. Yes, sir. Yes, sir. Yes, sir. Yes, sir. Yes, sir. Yes, sir. Yes, sir. Yes, sir. Yes, sir. Yes, sir. Yes, sir. Yes, sir. Yes, sir. Yes, sir. Yes, sir. Yes, sir. Yes, sir. Yes, sir. Yes, sir. Yes, sir. Yes, sir. Yes, sir. Yes, sir. Yes, sir. Yes, sir. Yes, sir. Yes, sir. Yes, sir. Yes, sir. Yes, sir. Yes, sir. Yes, sir. Yes, sir. Yes, sir. Yes, sir. Yes, sir. Yes, sir. Yes, sir. Yes, sir. Yes, sir. Yes, sir. Yes, sir. Yes, sir. Yes, sir. Yes, sir. Yes, sir. Yes, sir. Yes, sir. Yes, sir. Yes, sir. Yes, sir. Yes, sir. Yes, sir. Yes, sir. Yes, sir. Yes, sir. Yes, sir. Yes, sir. Yes, sir. Yes, sir. Yes, sir. Yes, sir. Yes, sir. Yes, sir. Yes, sir. Yes, sir. Yes, sir. Yes, sir. Yes, sir. Yes, sir. Yes, sir. Yes, sir. Yes, sir. Yes, sir. Yes, sir. Yes, sir. Yes, sir. Yes, sir. Yes, sir. Yes, sir. Yes, sir. Yes, sir. Yes, sir. Yes, sir. Yes, sir. Yes, sir. Yes, sir. Yes, sir. Yes, sir. Yes, sir. Yes, sir. Yes, sir. Yes, sir. Yes, sir. Yes, sir. Yes, sir. Yes, sir. Yes, sir. Yes, sir. Yes, sir. Yes, sir. Yes, sir. Yes, sir. Yes, sir. Yes, sir. Yes, sir. Yes, sir. Yes, sir. Yes, sir. Yes, sir. Yes, sir. Yes, sir. Yes, sir. Yes, sir. Yes, sir. Yes, sir. Yes, sir. Yes, sir. Yes, sir. Yes, sir. Yes, sir. Yes, sir. Yes, sir. Yes, sir. Yes, sir. Yes, sir. Yes, sir. Yes, sir. Yes, sir. Yes, sir. Yes, sir. Yes, sir. Yes, sir. Yes, sir. Yes, sir. Yes, sir. Yes, sir. Yes, sir. Yes, sir. Yes, sir. Yes, sir. Yes, sir. Yes, sir. Yes, sir. Yes, sir. Yes, sir. Yes, sir. Yes, sir. Yes, sir. Yes, sir. Yes, sir. Yes, sir. Yes, sir. Yes, sir. Yes, sir. Yes, sir. Yes, sir. Yes, sir. Yes, sir. Yes, sir. Yes, sir. Yes, sir. Yes, sir. Yes, sir. Yes, sir. Yes, sir. Yes, sir. Yes, sir. Yes, sir. Yes, sir. Yes, sir. Yes, sir. Yes, sir. Yes, sir. Yes, sir. Yes, sir. Yes, sir. Yes, sir. Yes, sir. Yes, sir. Yes, sir. Yes, sir. Yes, sir. Yes, sir. Yes, sir. Yes, sir. Yes, sir. Yes, sir. Yes, sir. Yes, sir. Yes, sir. Yes, sir. Yes, sir. Yes, sir. Yes, sir. Yes, sir. Yes, sir. Yes, sir. Yes, sir. Yes, sir. Yes, sir. Yes, sir. Yes, sir. Yes, sir. Yes, sir. Yes, sir. Yes, sir. Yes, sir. Yes, sir. Yes, sir. Yes, sir. Yes, sir. Yes, sir. Yes, sir. Yes, sir. Yes, sir. Yes, sir. Yes, sir. Yes, sir. Yes, sir. Yes, sir. Yes, sir. Yes, sir. Yes, sir. Yes, sir. Yes, sir. Yes, sir. Yes, sir. Yes, sir. Yes, sir. Yes, sir. Yes, sir. Yes, sir. Yes, sir. Yes, sir. Yes, sir. Yes, sir. Yes, sir. Yes, sir. Yes, sir. Yes, sir. Yes, sir. Yes, sir. Yes, sir. Yes, sir. Yes, sir. Yes, sir. Yes, sir. Yes, sir. Yes, sir. Yes, sir. Yes, sir. Yes, sir. Yes, sir. Yes, sir. Yes, sir. Yes, sir. Yes, sir. Yes, sir. Yes, sir. Yes, sir. Yes, sir. Yes, sir. Yes, sir. Yes, sir. Yes, sir. Yes, sir. Yes, sir. Yes, sir. Yes, sir. Yes, sir. Yes, sir. Yes, sir. Yes, sir. Yes, sir. Yes, sir. Yes, sir. Yes, sir. Yes, sir. Yes, sir. Yes, sir. Yes, sir. Yes, sir. Yes, sir. Yes, sir. Yes, sir. Yes, sir. Yes, sir. Yes, sir. Yes, sir. Yes, sir. Yes, sir. Yes, sir. Yes, sir. Yes, sir. Yes, sir. Yes, sir. Yes, sir. Yes, sir. Yes, sir. Yes, sir. Yes, sir. Yes, sir. Yes, sir. Yes, sir. Yes, sir. Yes, sir. Yes, sir. Yes, sir. Yes, sir. Yes, sir. Yes, sir. Yes, sir. Yes, sir. Yes, sir. Yes, sir. Yes, sir. Yes, sir. Yes, sir. Yes, sir. Yes, sir. Yes, sir. Yes, sir. Yes, sir. Yes, sir. Yes, sir. Yes, sir. Yes, sir. Yes, sir. Yes, sir. Yes, sir. Yes, sir. Yes, sir. Yes, sir. Yes, sir. Yes, sir. Yes, sir. Yes, sir. Yes, sir. Yes, sir. Yes, sir. Yes, sir. Yes, sir. Yes, sir. Yes, sir. Yes, sir. Yes, sir. Yes, sir. Yes, sir. Yes, sir. Yes, sir. Yes, sir. Yes, sir. Yes, sir. Yes, sir. Yes, sir. Yes, sir. Yes, sir. Yes, sir. Yes, sir. Yes, sir. Yes, sir. Yes, sir. Yes, sir. Yes, sir. Yes, sir. Yes, sir. Yes, sir. Yes, sir. Yes, sir. Yes, sir. Yes, sir. Yes, sir. Yes, sir. Yes, sir. Yes, sir. Yes, sir. Yes, sir. Yes, sir. Yes, sir. Yes, sir. Yes, sir. Yes, sir. Yes, sir. Yes, sir. Yes, sir. Yes, sir. Yes, sir. Yes, sir. Yes, sir. Yes, sir. Yes, sir. Yes, sir. Yes, sir. Yes, sir. Yes, sir. Yes, sir. Yes, sir. Yes, sir. Yes, sir. Yes, sir. Yes, sir. Yes, sir. Yes, sir. Yes, sir. Yes, sir. Yes, sir. Yes, sir. Yes, sir. Yes, sir. Yes, sir. Yes, sir. Yes, sir. Yes, sir. Yes, sir. Yes, sir. Yes, sir. Yes, sir. Yes, sir. Yes, sir. Yes, sir. Yes, sir. Yes, sir. Yes, sir. Yes, sir. Yes, sir. Yes, sir. Yes, sir. Yes, sir. Yes, sir. Yes, sir. Yes, sir. Yes, sir. Yes, sir. Yes, sir. Yes, sir. Yes, sir. Yes, sir. Yes, sir. Yes, sir. Yes, sir. Yes, sir. Yes, sir. Yes, sir. Yes, sir. Yes, sir. Yes, sir. Yes, sir. Yes, sir. Yes, sir. Yes, sir. Yes, sir. Yes, sir. Yes, sir. Yes, sir. Yes, sir. Yes, sir. Yes, sir. Yes, sir. Yes, sir. Yes, sir. Yes, sir. Yes, sir. Yes, sir. Yes, sir. Yes, sir. Yes, sir. Yes, sir. Yes, sir. Yes, sir. Yes, sir. Yes, sir. Yes, sir. Yes, sir. Yes, sir. Yes, sir. Yes, sir. Yes, sir. Yes, sir. Yes, sir. Yes, sir. Yes, sir. Yes, sir. Yes, sir. Yes, sir. Yes, sir. Yes, sir. Yes, sir. Yes, sir. Yes, sir. Yes, sir. Yes, sir. Yes, sir. Yes, sir. Yes, sir. Yes, sir. Yes, sir. Yes, sir. Yes, sir. Yes, sir. Yes, sir. Yes, sir. Yes, sir. Yes, sir. Yes, sir. Yes, sir. Yes, sir. Yes, sir. Yes, sir. Yes, sir. Yes, sir. Yes, sir. Yes, sir. Yes, sir. Yes, sir. Yes, sir. Yes, sir. Yes, sir. Yes, sir. Yes, sir. Yes, sir. Yes, sir. Yes, sir. Yes, sir. Yes, sir. Yes, sir. Yes, sir. Yes, sir. Yes, sir. Yes, sir. Yes, sir. Yes, sir. Yes, sir. Yes, sir. Yes, sir. Yes, sir. Yes, sir. Yes, sir. Yes, sir. Yes, sir. Yes, sir. Yes, sir. Yes, sir. Yes, sir. Yes, sir. Yes, sir. Yes, sir. Yes, sir. Yes, sir. Yes, sir. Yes, sir. Yes, sir. Yes, sir. Yes, sir. Yes, sir. Yes, sir. Yes, sir. Yes, sir. Yes, sir. Yes, sir. Yes, sir. Yes, sir. Yes, sir. Yes, sir. Yes, sir. Yes, sir. Yes, sir. Yes, sir. Yes, sir. Yes, sir. Yes, sir. Yes, sir. Yes, sir. Yes, sir. Yes, sir. Yes, sir. Yes, sir. Yes, sir. Yes, sir. Yes, sir. Yes, sir. Yes, sir. Yes, sir. Yes, sir. Yes, sir. Yes, sir. Yes, sir. Yes, sir. Yes, sir. Yes, sir. Yes, sir. Yes, sir. Yes, sir. Yes, sir. Yes, sir. Yes, sir. Yes, sir. Yes, sir. Yes, sir. Yes, sir. Yes, sir. Yes, sir. Yes, sir. Yes, sir. Yes, sir. Yes, sir. Yes, sir. Yes, sir. Yes, sir. Yes, sir. Yes, sir. Yes, sir. Yes, sir. Yes, sir. Yes, sir. Yes, sir. Yes, sir. Yes, sir. Yes, sir. Yes, sir. Yes, sir. Yes, sir. Yes, sir. Yes, sir. Yes, sir. Yes, sir. Yes, sir. Yes, sir. Yes, sir. Yes, sir. Yes, sir. Yes, sir. Yes, sir. Yes, sir. Yes, sir. Yes, sir. Yes, sir. Yes, sir. Yes, sir. Yes, sir. Yes, sir. Yes, sir. Yes, sir. Yes, sir. Yes, sir. Yes, sir. Yes, sir. Yes, sir. Yes, sir. Yes, sir. Yes, sir. Yes, sir. Yes, sir. Yes, sir. Yes, sir. Yes, sir. Yes, sir. Yes, sir. Yes, sir. Yes, sir. Yes, sir. Yes, sir. Yes, sir. Yes, sir. Yes, sir. Yes, sir. Yes, sir. Yes, sir. Yes, sir. Yes, sir. Yes, sir. Yes, sir. Yes, sir. Yes, sir. Yes, sir. Yes, sir. Yes, sir. Yes, sir. Yes, sir. Yes, sir. Yes, sir. Yes, sir. Yes, sir. Yes, sir. Yes, sir. Yes, sir. Yes, sir. Yes, sir. Yes, sir. Yes, sir. Yes, sir. Yes, sir. Yes, sir. Yes, sir. Yes, sir. Yes, sir. Yes, sir. Yes, sir. Yes, sir. Yes, sir. Yes, sir. Yes, sir. Yes, sir. Yes, sir. Yes, sir. Yes, sir. Yes, sir. Yes, sir. Yes, sir. Yes, sir. Yes, sir. Yes, sir. Yes, sir. Yes, sir. Yes, sir. Yes, sir. Yes, sir. Yes, sir. Yes, sir. Yes, sir. Yes, sir. Yes, sir. Yes, sir. Yes, sir. Yes, sir. Yes, sir. Yes, sir. Yes, sir. Yes, sir. Yes, sir. Yes, sir. Yes, sir. Yes, sir. Yes, sir. Yes, sir. Yes, sir. Yes, sir. Yes, sir. Yes, sir. Yes, sir. Yes, sir. Yes, sir. Yes, sir. Yes, sir. Yes, sir. Yes, sir. Yes, sir. Yes, sir. Yes, sir. Yes, sir. Yes, sir. Yes, sir. Yes, sir. Yes, sir. Yes, sir. Yes, sir. Yes, sir. Yes, sir. Yes, sir. Yes, sir. Yes, sir. Yes, sir. Yes, sir. Yes, sir. Yes, sir. Yes, sir. Yes, sir. Yes, sir. Yes, sir. Yes, sir. Yes, sir. Yes, sir. Yes, sir. Yes, sir. Yes, sir. Yes, sir. Yes, sir. Yes, sir. Yes, sir. Yes, sir. Yes, sir. Yes, sir. Yes, sir. Yes, sir. Yes, sir. Yes, sir. Yes, sir. Yes, sir. Yes, sir. Yes, sir. Yes, sir. Yes, sir. Yes, sir. Yes, sir. Yes, sir. Yes, sir. Yes, sir. Yes, sir. Yes, sir. Yes, sir. Yes, sir. Yes, sir. Yes, sir. Yes, sir. Yes, sir. Yes, sir. Yes, sir. Yes, sir. Yes, sir. Yes, sir. Yes, sir. Yes, sir. Yes, sir. Yes, sir. Yes, sir. Yes, sir. Yes, sir. Yes, sir. Yes, sir. Yes, sir. Yes, sir. Yes, sir. Yes, sir. Yes, sir. Yes, sir. Yes, sir. Yes, sir. Yes, sir. Yes, sir. Yes, sir. Yes, sir. Yes, sir. Yes, sir. Yes, sir. Yes, sir. Yes, sir. Yes, sir. Yes, sir. Yes, sir. Yes, sir. Yes, sir. Yes, sir. Yes, sir. Yes, sir. Yes, sir. Yes, sir. Yes, sir. Yes, sir. Yes, sir. Yes, sir. Yes, sir. Yes, sir. Yes, sir. Yes, sir. Yes, sir. Yes, sir. Yes, sir. Yes, sir. Yes, sir. Yes, sir. Yes, sir. Yes, sir. Yes, sir. Yes, sir. Yes, sir. Yes, sir. Yes, sir. Yes, sir. Yes, sir. Yes, sir. Yes, sir. Yes, sir. Yes, sir. Yes, sir. Yes, sir.\n"
          ]
        }
      ],
      "source": [
        "client = OpenAI(api_key = \"\") # ATTACHED API_KEY HERE\n",
        "\n",
        "audio_file = open(\"/content/drive/MyDrive/New Recording 18.m4a\",\"rb\")\n",
        "\n",
        "response = client.audio.transcriptions.create(\n",
        "    model = 'whisper-1',\n",
        "    # language = 'tag',\n",
        "    prompt = 'You are going to transcribe a english cebuano audio',\n",
        "    file = audio_file,\n",
        "    temperature = 0.3\n",
        ")\n",
        "\n",
        "print(response.text)\n",
        "\n",
        "\n",
        "\n"
      ]
    },
    {
      "cell_type": "code",
      "execution_count": null,
      "metadata": {
        "id": "NSGtl0M1V0RQ"
      },
      "outputs": [],
      "source": []
    }
  ],
  "metadata": {
    "accelerator": "TPU",
    "colab": {
      "provenance": []
    },
    "kernelspec": {
      "display_name": "Python 3",
      "name": "python3"
    },
    "language_info": {
      "name": "python"
    }
  },
  "nbformat": 4,
  "nbformat_minor": 0
}
