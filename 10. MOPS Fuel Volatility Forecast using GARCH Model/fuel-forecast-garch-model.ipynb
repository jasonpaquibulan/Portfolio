{
 "cells": [
  {
   "cell_type": "code",
   "execution_count": 1,
   "id": "214204e8",
   "metadata": {
    "_cell_guid": "b1076dfc-b9ad-4769-8c92-a6c4dae69d19",
    "_uuid": "8f2839f25d086af736a60e9eeb907d3b93b6e0e5",
    "execution": {
     "iopub.execute_input": "2023-10-09T04:20:48.858672Z",
     "iopub.status.busy": "2023-10-09T04:20:48.858079Z",
     "iopub.status.idle": "2023-10-09T04:20:49.242337Z",
     "shell.execute_reply": "2023-10-09T04:20:49.241265Z"
    },
    "papermill": {
     "duration": 0.392339,
     "end_time": "2023-10-09T04:20:49.244678",
     "exception": false,
     "start_time": "2023-10-09T04:20:48.852339",
     "status": "completed"
    },
    "tags": []
   },
   "outputs": [
    {
     "name": "stdout",
     "output_type": "stream",
     "text": [
      "/kaggle/input/fuel-data/MOPS hist.csv\n"
     ]
    }
   ],
   "source": [
    "import numpy as np \n",
    "import pandas as pd "
   ]
  },
  {
   "cell_type": "code",
   "execution_count": 2,
   "id": "795a5a6f",
   "metadata": {
    "execution": {
     "iopub.execute_input": "2023-10-09T04:20:49.255112Z",
     "iopub.status.busy": "2023-10-09T04:20:49.254337Z",
     "iopub.status.idle": "2023-10-09T04:20:49.272232Z",
     "shell.execute_reply": "2023-10-09T04:20:49.270931Z"
    },
    "papermill": {
     "duration": 0.024779,
     "end_time": "2023-10-09T04:20:49.274715",
     "exception": false,
     "start_time": "2023-10-09T04:20:49.249936",
     "status": "completed"
    },
    "tags": []
   },
   "outputs": [],
   "source": [
    "df = pd.read_csv('/kaggle/input/fuel-data/MOPS hist.csv')"
   ]
  },
  {
   "cell_type": "code",
   "execution_count": 3,
   "id": "07e7fc95",
   "metadata": {
    "execution": {
     "iopub.execute_input": "2023-10-09T04:20:49.283573Z",
     "iopub.status.busy": "2023-10-09T04:20:49.282976Z",
     "iopub.status.idle": "2023-10-09T04:21:23.912299Z",
     "shell.execute_reply": "2023-10-09T04:21:23.910613Z"
    },
    "papermill": {
     "duration": 34.637133,
     "end_time": "2023-10-09T04:21:23.915196",
     "exception": false,
     "start_time": "2023-10-09T04:20:49.278063",
     "status": "completed"
    },
    "tags": []
   },
   "outputs": [
    {
     "name": "stdout",
     "output_type": "stream",
     "text": [
      "Requirement already satisfied: prophet in /opt/conda/lib/python3.10/site-packages (1.1.1)\r\n",
      "Requirement already satisfied: cmdstanpy>=1.0.4 in /opt/conda/lib/python3.10/site-packages (from prophet) (1.1.0)\r\n",
      "Requirement already satisfied: numpy>=1.15.4 in /opt/conda/lib/python3.10/site-packages (from prophet) (1.23.5)\r\n",
      "Requirement already satisfied: pandas>=1.0.4 in /opt/conda/lib/python3.10/site-packages (from prophet) (2.0.3)\r\n",
      "Requirement already satisfied: matplotlib>=2.0.0 in /opt/conda/lib/python3.10/site-packages (from prophet) (3.7.2)\r\n",
      "Requirement already satisfied: LunarCalendar>=0.0.9 in /opt/conda/lib/python3.10/site-packages (from prophet) (0.0.9)\r\n",
      "Requirement already satisfied: convertdate>=2.1.2 in /opt/conda/lib/python3.10/site-packages (from prophet) (2.4.0)\r\n",
      "Requirement already satisfied: holidays>=0.14.2 in /opt/conda/lib/python3.10/site-packages (from prophet) (0.24)\r\n",
      "Requirement already satisfied: setuptools>=42 in /opt/conda/lib/python3.10/site-packages (from prophet) (68.0.0)\r\n",
      "Requirement already satisfied: setuptools-git>=1.2 in /opt/conda/lib/python3.10/site-packages (from prophet) (1.2)\r\n",
      "Requirement already satisfied: python-dateutil>=2.8.0 in /opt/conda/lib/python3.10/site-packages (from prophet) (2.8.2)\r\n",
      "Requirement already satisfied: tqdm>=4.36.1 in /opt/conda/lib/python3.10/site-packages (from prophet) (4.66.1)\r\n",
      "Requirement already satisfied: wheel>=0.37.0 in /opt/conda/lib/python3.10/site-packages (from prophet) (0.40.0)\r\n",
      "Requirement already satisfied: pymeeus<=1,>=0.3.13 in /opt/conda/lib/python3.10/site-packages (from convertdate>=2.1.2->prophet) (0.5.12)\r\n",
      "Requirement already satisfied: hijri-converter in /opt/conda/lib/python3.10/site-packages (from holidays>=0.14.2->prophet) (2.3.1)\r\n",
      "Requirement already satisfied: korean-lunar-calendar in /opt/conda/lib/python3.10/site-packages (from holidays>=0.14.2->prophet) (0.3.1)\r\n",
      "Requirement already satisfied: ephem>=3.7.5.3 in /opt/conda/lib/python3.10/site-packages (from LunarCalendar>=0.0.9->prophet) (4.1.4)\r\n",
      "Requirement already satisfied: pytz in /opt/conda/lib/python3.10/site-packages (from LunarCalendar>=0.0.9->prophet) (2023.3)\r\n",
      "Requirement already satisfied: contourpy>=1.0.1 in /opt/conda/lib/python3.10/site-packages (from matplotlib>=2.0.0->prophet) (1.1.0)\r\n",
      "Requirement already satisfied: cycler>=0.10 in /opt/conda/lib/python3.10/site-packages (from matplotlib>=2.0.0->prophet) (0.11.0)\r\n",
      "Requirement already satisfied: fonttools>=4.22.0 in /opt/conda/lib/python3.10/site-packages (from matplotlib>=2.0.0->prophet) (4.40.0)\r\n",
      "Requirement already satisfied: kiwisolver>=1.0.1 in /opt/conda/lib/python3.10/site-packages (from matplotlib>=2.0.0->prophet) (1.4.4)\r\n",
      "Requirement already satisfied: packaging>=20.0 in /opt/conda/lib/python3.10/site-packages (from matplotlib>=2.0.0->prophet) (21.3)\r\n",
      "Requirement already satisfied: pillow>=6.2.0 in /opt/conda/lib/python3.10/site-packages (from matplotlib>=2.0.0->prophet) (9.5.0)\r\n",
      "Requirement already satisfied: pyparsing<3.1,>=2.3.1 in /opt/conda/lib/python3.10/site-packages (from matplotlib>=2.0.0->prophet) (3.0.9)\r\n",
      "Requirement already satisfied: tzdata>=2022.1 in /opt/conda/lib/python3.10/site-packages (from pandas>=1.0.4->prophet) (2023.3)\r\n",
      "Requirement already satisfied: six>=1.5 in /opt/conda/lib/python3.10/site-packages (from python-dateutil>=2.8.0->prophet) (1.16.0)\r\n",
      "Collecting fbprophet\r\n",
      "  Downloading fbprophet-0.7.1.tar.gz (64 kB)\r\n",
      "\u001b[2K     \u001b[90m━━━━━━━━━━━━━━━━━━━━━━━━━━━━━━━━━━━━━━━━\u001b[0m \u001b[32m64.0/64.0 kB\u001b[0m \u001b[31m3.0 MB/s\u001b[0m eta \u001b[36m0:00:00\u001b[0m\r\n",
      "\u001b[?25h  Preparing metadata (setup.py) ... \u001b[?25l-\b \bdone\r\n",
      "\u001b[?25hRequirement already satisfied: Cython>=0.22 in /opt/conda/lib/python3.10/site-packages (from fbprophet) (0.29.35)\r\n",
      "Collecting cmdstanpy==0.9.5 (from fbprophet)\r\n",
      "  Downloading cmdstanpy-0.9.5-py3-none-any.whl (37 kB)\r\n",
      "Collecting pystan>=2.14 (from fbprophet)\r\n",
      "  Downloading pystan-3.7.0-py3-none-any.whl (13 kB)\r\n",
      "Requirement already satisfied: numpy>=1.15.4 in /opt/conda/lib/python3.10/site-packages (from fbprophet) (1.23.5)\r\n",
      "Requirement already satisfied: pandas>=1.0.4 in /opt/conda/lib/python3.10/site-packages (from fbprophet) (2.0.3)\r\n",
      "Requirement already satisfied: matplotlib>=2.0.0 in /opt/conda/lib/python3.10/site-packages (from fbprophet) (3.7.2)\r\n",
      "Requirement already satisfied: LunarCalendar>=0.0.9 in /opt/conda/lib/python3.10/site-packages (from fbprophet) (0.0.9)\r\n",
      "Requirement already satisfied: convertdate>=2.1.2 in /opt/conda/lib/python3.10/site-packages (from fbprophet) (2.4.0)\r\n",
      "Requirement already satisfied: holidays>=0.10.2 in /opt/conda/lib/python3.10/site-packages (from fbprophet) (0.24)\r\n",
      "Requirement already satisfied: setuptools-git>=1.2 in /opt/conda/lib/python3.10/site-packages (from fbprophet) (1.2)\r\n",
      "Requirement already satisfied: python-dateutil>=2.8.0 in /opt/conda/lib/python3.10/site-packages (from fbprophet) (2.8.2)\r\n",
      "Requirement already satisfied: tqdm>=4.36.1 in /opt/conda/lib/python3.10/site-packages (from fbprophet) (4.66.1)\r\n",
      "Requirement already satisfied: pymeeus<=1,>=0.3.13 in /opt/conda/lib/python3.10/site-packages (from convertdate>=2.1.2->fbprophet) (0.5.12)\r\n",
      "Requirement already satisfied: hijri-converter in /opt/conda/lib/python3.10/site-packages (from holidays>=0.10.2->fbprophet) (2.3.1)\r\n",
      "Requirement already satisfied: korean-lunar-calendar in /opt/conda/lib/python3.10/site-packages (from holidays>=0.10.2->fbprophet) (0.3.1)\r\n",
      "Requirement already satisfied: ephem>=3.7.5.3 in /opt/conda/lib/python3.10/site-packages (from LunarCalendar>=0.0.9->fbprophet) (4.1.4)\r\n",
      "Requirement already satisfied: pytz in /opt/conda/lib/python3.10/site-packages (from LunarCalendar>=0.0.9->fbprophet) (2023.3)\r\n",
      "Requirement already satisfied: contourpy>=1.0.1 in /opt/conda/lib/python3.10/site-packages (from matplotlib>=2.0.0->fbprophet) (1.1.0)\r\n",
      "Requirement already satisfied: cycler>=0.10 in /opt/conda/lib/python3.10/site-packages (from matplotlib>=2.0.0->fbprophet) (0.11.0)\r\n",
      "Requirement already satisfied: fonttools>=4.22.0 in /opt/conda/lib/python3.10/site-packages (from matplotlib>=2.0.0->fbprophet) (4.40.0)\r\n",
      "Requirement already satisfied: kiwisolver>=1.0.1 in /opt/conda/lib/python3.10/site-packages (from matplotlib>=2.0.0->fbprophet) (1.4.4)\r\n",
      "Requirement already satisfied: packaging>=20.0 in /opt/conda/lib/python3.10/site-packages (from matplotlib>=2.0.0->fbprophet) (21.3)\r\n",
      "Requirement already satisfied: pillow>=6.2.0 in /opt/conda/lib/python3.10/site-packages (from matplotlib>=2.0.0->fbprophet) (9.5.0)\r\n",
      "Requirement already satisfied: pyparsing<3.1,>=2.3.1 in /opt/conda/lib/python3.10/site-packages (from matplotlib>=2.0.0->fbprophet) (3.0.9)\r\n",
      "Requirement already satisfied: tzdata>=2022.1 in /opt/conda/lib/python3.10/site-packages (from pandas>=1.0.4->fbprophet) (2023.3)\r\n",
      "Requirement already satisfied: aiohttp<4.0,>=3.6 in /opt/conda/lib/python3.10/site-packages (from pystan>=2.14->fbprophet) (3.8.4)\r\n",
      "Collecting clikit<0.7,>=0.6 (from pystan>=2.14->fbprophet)\r\n",
      "  Downloading clikit-0.6.2-py2.py3-none-any.whl (91 kB)\r\n",
      "\u001b[2K     \u001b[90m━━━━━━━━━━━━━━━━━━━━━━━━━━━━━━━━━━━━━━━━\u001b[0m \u001b[32m91.8/91.8 kB\u001b[0m \u001b[31m6.0 MB/s\u001b[0m eta \u001b[36m0:00:00\u001b[0m\r\n",
      "\u001b[?25hCollecting httpstan<4.11,>=4.10 (from pystan>=2.14->fbprophet)\r\n",
      "  Downloading httpstan-4.10.1-cp310-cp310-manylinux_2_17_x86_64.manylinux2014_x86_64.whl (44.4 MB)\r\n",
      "\u001b[2K     \u001b[90m━━━━━━━━━━━━━━━━━━━━━━━━━━━━━━━━━━━━━━━━\u001b[0m \u001b[32m44.4/44.4 MB\u001b[0m \u001b[31m21.7 MB/s\u001b[0m eta \u001b[36m0:00:00\u001b[0m\r\n",
      "\u001b[?25hCollecting pysimdjson<6.0.0,>=5.0.2 (from pystan>=2.14->fbprophet)\r\n",
      "  Downloading pysimdjson-5.0.2-cp310-cp310-manylinux_2_17_x86_64.manylinux2014_x86_64.whl (1.8 MB)\r\n",
      "\u001b[2K     \u001b[90m━━━━━━━━━━━━━━━━━━━━━━━━━━━━━━━━━━━━━━━━\u001b[0m \u001b[32m1.8/1.8 MB\u001b[0m \u001b[31m59.2 MB/s\u001b[0m eta \u001b[36m0:00:00\u001b[0m\r\n",
      "\u001b[?25hRequirement already satisfied: setuptools in /opt/conda/lib/python3.10/site-packages (from pystan>=2.14->fbprophet) (68.0.0)\r\n",
      "Requirement already satisfied: six>=1.5 in /opt/conda/lib/python3.10/site-packages (from python-dateutil>=2.8.0->fbprophet) (1.16.0)\r\n",
      "Requirement already satisfied: attrs>=17.3.0 in /opt/conda/lib/python3.10/site-packages (from aiohttp<4.0,>=3.6->pystan>=2.14->fbprophet) (23.1.0)\r\n",
      "Requirement already satisfied: charset-normalizer<4.0,>=2.0 in /opt/conda/lib/python3.10/site-packages (from aiohttp<4.0,>=3.6->pystan>=2.14->fbprophet) (3.1.0)\r\n",
      "Requirement already satisfied: multidict<7.0,>=4.5 in /opt/conda/lib/python3.10/site-packages (from aiohttp<4.0,>=3.6->pystan>=2.14->fbprophet) (6.0.4)\r\n",
      "Requirement already satisfied: async-timeout<5.0,>=4.0.0a3 in /opt/conda/lib/python3.10/site-packages (from aiohttp<4.0,>=3.6->pystan>=2.14->fbprophet) (4.0.2)\r\n",
      "Requirement already satisfied: yarl<2.0,>=1.0 in /opt/conda/lib/python3.10/site-packages (from aiohttp<4.0,>=3.6->pystan>=2.14->fbprophet) (1.9.2)\r\n",
      "Requirement already satisfied: frozenlist>=1.1.1 in /opt/conda/lib/python3.10/site-packages (from aiohttp<4.0,>=3.6->pystan>=2.14->fbprophet) (1.3.3)\r\n",
      "Requirement already satisfied: aiosignal>=1.1.2 in /opt/conda/lib/python3.10/site-packages (from aiohttp<4.0,>=3.6->pystan>=2.14->fbprophet) (1.3.1)\r\n",
      "Collecting crashtest<0.4.0,>=0.3.0 (from clikit<0.7,>=0.6->pystan>=2.14->fbprophet)\r\n",
      "  Downloading crashtest-0.3.1-py3-none-any.whl (7.0 kB)\r\n",
      "Collecting pastel<0.3.0,>=0.2.0 (from clikit<0.7,>=0.6->pystan>=2.14->fbprophet)\r\n",
      "  Downloading pastel-0.2.1-py2.py3-none-any.whl (6.0 kB)\r\n",
      "Collecting pylev<2.0,>=1.3 (from clikit<0.7,>=0.6->pystan>=2.14->fbprophet)\r\n",
      "  Downloading pylev-1.4.0-py2.py3-none-any.whl (6.1 kB)\r\n",
      "Requirement already satisfied: appdirs<2.0,>=1.4 in /opt/conda/lib/python3.10/site-packages (from httpstan<4.11,>=4.10->pystan>=2.14->fbprophet) (1.4.4)\r\n",
      "Requirement already satisfied: marshmallow<4.0,>=3.10 in /opt/conda/lib/python3.10/site-packages (from httpstan<4.11,>=4.10->pystan>=2.14->fbprophet) (3.20.1)\r\n",
      "Collecting webargs<9.0,>=8.0 (from httpstan<4.11,>=4.10->pystan>=2.14->fbprophet)\r\n",
      "  Downloading webargs-8.3.0-py3-none-any.whl (31 kB)\r\n",
      "Requirement already satisfied: idna>=2.0 in /opt/conda/lib/python3.10/site-packages (from yarl<2.0,>=1.0->aiohttp<4.0,>=3.6->pystan>=2.14->fbprophet) (3.4)\r\n",
      "Building wheels for collected packages: fbprophet\r\n",
      "  Building wheel for fbprophet (setup.py) ... \u001b[?25l-\b \b\\\b \berror\r\n",
      "  \u001b[1;31merror\u001b[0m: \u001b[1msubprocess-exited-with-error\u001b[0m\r\n",
      "  \r\n",
      "  \u001b[31m×\u001b[0m \u001b[32mpython setup.py bdist_wheel\u001b[0m did not run successfully.\r\n",
      "  \u001b[31m│\u001b[0m exit code: \u001b[1;36m1\u001b[0m\r\n",
      "  \u001b[31m╰─>\u001b[0m \u001b[31m[42 lines of output]\u001b[0m\r\n",
      "  \u001b[31m   \u001b[0m /tmp/pip-install-oacgt4ap/fbprophet_d897b653c716436187a3e0b25f7c19d0/setup.py:10: DeprecationWarning: pkg_resources is deprecated as an API. See https://setuptools.pypa.io/en/latest/pkg_resources.html\r\n",
      "  \u001b[31m   \u001b[0m   from pkg_resources import (\r\n",
      "  \u001b[31m   \u001b[0m Traceback (most recent call last):\r\n",
      "  \u001b[31m   \u001b[0m   File \"<string>\", line 2, in <module>\r\n",
      "  \u001b[31m   \u001b[0m   File \"<pip-setuptools-caller>\", line 34, in <module>\r\n",
      "  \u001b[31m   \u001b[0m   File \"/tmp/pip-install-oacgt4ap/fbprophet_d897b653c716436187a3e0b25f7c19d0/setup.py\", line 122, in <module>\r\n",
      "  \u001b[31m   \u001b[0m     setup(\r\n",
      "  \u001b[31m   \u001b[0m   File \"/opt/conda/lib/python3.10/site-packages/setuptools/__init__.py\", line 107, in setup\r\n",
      "  \u001b[31m   \u001b[0m     return distutils.core.setup(**attrs)\r\n",
      "  \u001b[31m   \u001b[0m   File \"/opt/conda/lib/python3.10/site-packages/setuptools/_distutils/core.py\", line 185, in setup\r\n",
      "  \u001b[31m   \u001b[0m     return run_commands(dist)\r\n",
      "  \u001b[31m   \u001b[0m   File \"/opt/conda/lib/python3.10/site-packages/setuptools/_distutils/core.py\", line 201, in run_commands\r\n",
      "  \u001b[31m   \u001b[0m     dist.run_commands()\r\n",
      "  \u001b[31m   \u001b[0m   File \"/opt/conda/lib/python3.10/site-packages/setuptools/_distutils/dist.py\", line 969, in run_commands\r\n",
      "  \u001b[31m   \u001b[0m     self.run_command(cmd)\r\n",
      "  \u001b[31m   \u001b[0m   File \"/opt/conda/lib/python3.10/site-packages/setuptools/dist.py\", line 1234, in run_command\r\n",
      "  \u001b[31m   \u001b[0m     super().run_command(command)\r\n",
      "  \u001b[31m   \u001b[0m   File \"/opt/conda/lib/python3.10/site-packages/setuptools/_distutils/dist.py\", line 988, in run_command\r\n",
      "  \u001b[31m   \u001b[0m     cmd_obj.run()\r\n",
      "  \u001b[31m   \u001b[0m   File \"/opt/conda/lib/python3.10/site-packages/wheel/bdist_wheel.py\", line 343, in run\r\n",
      "  \u001b[31m   \u001b[0m     self.run_command(\"build\")\r\n",
      "  \u001b[31m   \u001b[0m   File \"/opt/conda/lib/python3.10/site-packages/setuptools/_distutils/cmd.py\", line 318, in run_command\r\n",
      "  \u001b[31m   \u001b[0m     self.distribution.run_command(command)\r\n",
      "  \u001b[31m   \u001b[0m   File \"/opt/conda/lib/python3.10/site-packages/setuptools/dist.py\", line 1234, in run_command\r\n",
      "  \u001b[31m   \u001b[0m     super().run_command(command)\r\n",
      "  \u001b[31m   \u001b[0m   File \"/opt/conda/lib/python3.10/site-packages/setuptools/_distutils/dist.py\", line 988, in run_command\r\n",
      "  \u001b[31m   \u001b[0m     cmd_obj.run()\r\n",
      "  \u001b[31m   \u001b[0m   File \"/opt/conda/lib/python3.10/site-packages/setuptools/_distutils/command/build.py\", line 131, in run\r\n",
      "  \u001b[31m   \u001b[0m     self.run_command(cmd_name)\r\n",
      "  \u001b[31m   \u001b[0m   File \"/opt/conda/lib/python3.10/site-packages/setuptools/_distutils/cmd.py\", line 318, in run_command\r\n",
      "  \u001b[31m   \u001b[0m     self.distribution.run_command(command)\r\n",
      "  \u001b[31m   \u001b[0m   File \"/opt/conda/lib/python3.10/site-packages/setuptools/dist.py\", line 1234, in run_command\r\n",
      "  \u001b[31m   \u001b[0m     super().run_command(command)\r\n",
      "  \u001b[31m   \u001b[0m   File \"/opt/conda/lib/python3.10/site-packages/setuptools/_distutils/dist.py\", line 988, in run_command\r\n",
      "  \u001b[31m   \u001b[0m     cmd_obj.run()\r\n",
      "  \u001b[31m   \u001b[0m   File \"/tmp/pip-install-oacgt4ap/fbprophet_d897b653c716436187a3e0b25f7c19d0/setup.py\", line 48, in run\r\n",
      "  \u001b[31m   \u001b[0m     build_models(target_dir)\r\n",
      "  \u001b[31m   \u001b[0m   File \"/tmp/pip-install-oacgt4ap/fbprophet_d897b653c716436187a3e0b25f7c19d0/setup.py\", line 38, in build_models\r\n",
      "  \u001b[31m   \u001b[0m     StanBackendEnum.get_backend_class(backend).build_model(target_dir, MODEL_DIR)\r\n",
      "  \u001b[31m   \u001b[0m   File \"/tmp/pip-install-oacgt4ap/fbprophet_d897b653c716436187a3e0b25f7c19d0/fbprophet/models.py\", line 209, in build_model\r\n",
      "  \u001b[31m   \u001b[0m     import pystan\r\n",
      "  \u001b[31m   \u001b[0m ModuleNotFoundError: No module named 'pystan'\r\n",
      "  \u001b[31m   \u001b[0m \u001b[31m[end of output]\u001b[0m\r\n",
      "  \r\n",
      "  \u001b[1;35mnote\u001b[0m: This error originates from a subprocess, and is likely not a problem with pip.\r\n",
      "\u001b[31m  ERROR: Failed building wheel for fbprophet\u001b[0m\u001b[31m\r\n",
      "\u001b[0m\u001b[?25h  Running setup.py clean for fbprophet\r\n",
      "Failed to build fbprophet\r\n",
      "\u001b[31mERROR: Could not build wheels for fbprophet, which is required to install pyproject.toml-based projects\u001b[0m\u001b[31m\r\n",
      "\u001b[0mCollecting arch\r\n",
      "  Downloading arch-6.2.0-cp310-cp310-manylinux_2_17_x86_64.manylinux2014_x86_64.whl (981 kB)\r\n",
      "\u001b[2K     \u001b[90m━━━━━━━━━━━━━━━━━━━━━━━━━━━━━━━━━━━━━━\u001b[0m \u001b[32m981.7/981.7 kB\u001b[0m \u001b[31m18.0 MB/s\u001b[0m eta \u001b[36m0:00:00\u001b[0m\r\n",
      "\u001b[?25hRequirement already satisfied: numpy>=1.19 in /opt/conda/lib/python3.10/site-packages (from arch) (1.23.5)\r\n",
      "Requirement already satisfied: scipy>=1.5 in /opt/conda/lib/python3.10/site-packages (from arch) (1.11.2)\r\n",
      "Requirement already satisfied: pandas>=1.1 in /opt/conda/lib/python3.10/site-packages (from arch) (2.0.3)\r\n",
      "Requirement already satisfied: statsmodels>=0.12 in /opt/conda/lib/python3.10/site-packages (from arch) (0.14.0)\r\n",
      "Requirement already satisfied: python-dateutil>=2.8.2 in /opt/conda/lib/python3.10/site-packages (from pandas>=1.1->arch) (2.8.2)\r\n",
      "Requirement already satisfied: pytz>=2020.1 in /opt/conda/lib/python3.10/site-packages (from pandas>=1.1->arch) (2023.3)\r\n",
      "Requirement already satisfied: tzdata>=2022.1 in /opt/conda/lib/python3.10/site-packages (from pandas>=1.1->arch) (2023.3)\r\n",
      "Requirement already satisfied: patsy>=0.5.2 in /opt/conda/lib/python3.10/site-packages (from statsmodels>=0.12->arch) (0.5.3)\r\n",
      "Requirement already satisfied: packaging>=21.3 in /opt/conda/lib/python3.10/site-packages (from statsmodels>=0.12->arch) (21.3)\r\n",
      "Requirement already satisfied: pyparsing!=3.0.5,>=2.0.2 in /opt/conda/lib/python3.10/site-packages (from packaging>=21.3->statsmodels>=0.12->arch) (3.0.9)\r\n",
      "Requirement already satisfied: six in /opt/conda/lib/python3.10/site-packages (from patsy>=0.5.2->statsmodels>=0.12->arch) (1.16.0)\r\n",
      "Installing collected packages: arch\r\n",
      "Successfully installed arch-6.2.0\r\n"
     ]
    }
   ],
   "source": [
    "import calendar\n",
    "\n",
    "import statsmodels.api as sm\n",
    "\n",
    "import matplotlib.pyplot as plt\n",
    "\n",
    "df = pd.read_csv('/kaggle/input/fuel-data/MOPS hist.csv')\n",
    "\n",
    "!pip install prophet\n",
    "\n",
    "from prophet import Prophet\n",
    "\n",
    "!pip install fbprophet\n",
    "\n",
    "!pip install arch"
   ]
  },
  {
   "cell_type": "code",
   "execution_count": 4,
   "id": "5e7696ca",
   "metadata": {
    "execution": {
     "iopub.execute_input": "2023-10-09T04:21:23.931583Z",
     "iopub.status.busy": "2023-10-09T04:21:23.931038Z",
     "iopub.status.idle": "2023-10-09T04:21:23.982678Z",
     "shell.execute_reply": "2023-10-09T04:21:23.981307Z"
    },
    "papermill": {
     "duration": 0.062967,
     "end_time": "2023-10-09T04:21:23.985027",
     "exception": false,
     "start_time": "2023-10-09T04:21:23.922060",
     "status": "completed"
    },
    "tags": []
   },
   "outputs": [
    {
     "name": "stderr",
     "output_type": "stream",
     "text": [
      "/tmp/ipykernel_20/721785659.py:5: UserWarning: Could not infer format, so each element will be parsed individually, falling back to `dateutil`. To ensure parsing is consistent and as-expected, please specify a format.\n",
      "  df['Date'] = pd.to_datetime(df['Date'])\n"
     ]
    }
   ],
   "source": [
    "df['Date'] = df['Month'].apply(lambda x: calendar.month_name[x]) + ' ' + df['Year'].astype(str)\n",
    "\n",
    "data = df[['Date','MOPS']]\n",
    "\n",
    "df['Date'] = pd.to_datetime(df['Date'])\n",
    "\n",
    "df.set_index('Date', inplace = True)\n"
   ]
  },
  {
   "cell_type": "code",
   "execution_count": 5,
   "id": "976500d0",
   "metadata": {
    "execution": {
     "iopub.execute_input": "2023-10-09T04:21:24.001429Z",
     "iopub.status.busy": "2023-10-09T04:21:24.000333Z",
     "iopub.status.idle": "2023-10-09T04:21:24.023337Z",
     "shell.execute_reply": "2023-10-09T04:21:24.022458Z"
    },
    "papermill": {
     "duration": 0.033703,
     "end_time": "2023-10-09T04:21:24.025485",
     "exception": false,
     "start_time": "2023-10-09T04:21:23.991782",
     "status": "completed"
    },
    "tags": []
   },
   "outputs": [
    {
     "data": {
      "text/html": [
       "<div>\n",
       "<style scoped>\n",
       "    .dataframe tbody tr th:only-of-type {\n",
       "        vertical-align: middle;\n",
       "    }\n",
       "\n",
       "    .dataframe tbody tr th {\n",
       "        vertical-align: top;\n",
       "    }\n",
       "\n",
       "    .dataframe thead th {\n",
       "        text-align: right;\n",
       "    }\n",
       "</style>\n",
       "<table border=\"1\" class=\"dataframe\">\n",
       "  <thead>\n",
       "    <tr style=\"text-align: right;\">\n",
       "      <th></th>\n",
       "      <th>Month</th>\n",
       "      <th>Year</th>\n",
       "      <th>MOPS</th>\n",
       "    </tr>\n",
       "    <tr>\n",
       "      <th>Date</th>\n",
       "      <th></th>\n",
       "      <th></th>\n",
       "      <th></th>\n",
       "    </tr>\n",
       "  </thead>\n",
       "  <tbody>\n",
       "    <tr>\n",
       "      <th>2002-01-01</th>\n",
       "      <td>1</td>\n",
       "      <td>2002</td>\n",
       "      <td>17.482999</td>\n",
       "    </tr>\n",
       "    <tr>\n",
       "      <th>2002-02-01</th>\n",
       "      <td>2</td>\n",
       "      <td>2002</td>\n",
       "      <td>18.539833</td>\n",
       "    </tr>\n",
       "    <tr>\n",
       "      <th>2002-03-01</th>\n",
       "      <td>3</td>\n",
       "      <td>2002</td>\n",
       "      <td>21.078740</td>\n",
       "    </tr>\n",
       "    <tr>\n",
       "      <th>2002-04-01</th>\n",
       "      <td>4</td>\n",
       "      <td>2002</td>\n",
       "      <td>23.339299</td>\n",
       "    </tr>\n",
       "    <tr>\n",
       "      <th>2002-05-01</th>\n",
       "      <td>5</td>\n",
       "      <td>2002</td>\n",
       "      <td>24.595988</td>\n",
       "    </tr>\n",
       "    <tr>\n",
       "      <th>...</th>\n",
       "      <td>...</td>\n",
       "      <td>...</td>\n",
       "      <td>...</td>\n",
       "    </tr>\n",
       "    <tr>\n",
       "      <th>2023-02-01</th>\n",
       "      <td>2</td>\n",
       "      <td>2023</td>\n",
       "      <td>60.372800</td>\n",
       "    </tr>\n",
       "    <tr>\n",
       "      <th>2023-03-01</th>\n",
       "      <td>3</td>\n",
       "      <td>2023</td>\n",
       "      <td>62.737700</td>\n",
       "    </tr>\n",
       "    <tr>\n",
       "      <th>2023-04-01</th>\n",
       "      <td>4</td>\n",
       "      <td>2023</td>\n",
       "      <td>66.013700</td>\n",
       "    </tr>\n",
       "    <tr>\n",
       "      <th>2023-05-01</th>\n",
       "      <td>5</td>\n",
       "      <td>2023</td>\n",
       "      <td>71.815500</td>\n",
       "    </tr>\n",
       "    <tr>\n",
       "      <th>2023-06-01</th>\n",
       "      <td>6</td>\n",
       "      <td>2023</td>\n",
       "      <td>66.504400</td>\n",
       "    </tr>\n",
       "  </tbody>\n",
       "</table>\n",
       "<p>251 rows × 3 columns</p>\n",
       "</div>"
      ],
      "text/plain": [
       "            Month  Year       MOPS\n",
       "Date                              \n",
       "2002-01-01      1  2002  17.482999\n",
       "2002-02-01      2  2002  18.539833\n",
       "2002-03-01      3  2002  21.078740\n",
       "2002-04-01      4  2002  23.339299\n",
       "2002-05-01      5  2002  24.595988\n",
       "...           ...   ...        ...\n",
       "2023-02-01      2  2023  60.372800\n",
       "2023-03-01      3  2023  62.737700\n",
       "2023-04-01      4  2023  66.013700\n",
       "2023-05-01      5  2023  71.815500\n",
       "2023-06-01      6  2023  66.504400\n",
       "\n",
       "[251 rows x 3 columns]"
      ]
     },
     "execution_count": 5,
     "metadata": {},
     "output_type": "execute_result"
    }
   ],
   "source": [
    "df"
   ]
  },
  {
   "cell_type": "code",
   "execution_count": 6,
   "id": "e8e3509b",
   "metadata": {
    "execution": {
     "iopub.execute_input": "2023-10-09T04:21:24.041929Z",
     "iopub.status.busy": "2023-10-09T04:21:24.041396Z",
     "iopub.status.idle": "2023-10-09T04:21:24.058419Z",
     "shell.execute_reply": "2023-10-09T04:21:24.057218Z"
    },
    "papermill": {
     "duration": 0.02792,
     "end_time": "2023-10-09T04:21:24.060651",
     "exception": false,
     "start_time": "2023-10-09T04:21:24.032731",
     "status": "completed"
    },
    "tags": []
   },
   "outputs": [
    {
     "data": {
      "text/plain": [
       "Month         0\n",
       "Year          0\n",
       "MOPS          0\n",
       "Volatility    0\n",
       "dtype: int64"
      ]
     },
     "execution_count": 6,
     "metadata": {},
     "output_type": "execute_result"
    }
   ],
   "source": [
    "df['Volatility'] = np.log((df['MOPS'])/(df['MOPS'].shift(1)))\n",
    "\n",
    "df.isna().sum()\n",
    "\n",
    "df.dropna(inplace = True)\n",
    "\n",
    "df.isna().sum()"
   ]
  },
  {
   "cell_type": "code",
   "execution_count": 7,
   "id": "16dca85d",
   "metadata": {
    "execution": {
     "iopub.execute_input": "2023-10-09T04:21:24.077342Z",
     "iopub.status.busy": "2023-10-09T04:21:24.076818Z",
     "iopub.status.idle": "2023-10-09T04:21:24.455774Z",
     "shell.execute_reply": "2023-10-09T04:21:24.454388Z"
    },
    "papermill": {
     "duration": 0.390922,
     "end_time": "2023-10-09T04:21:24.459013",
     "exception": false,
     "start_time": "2023-10-09T04:21:24.068091",
     "status": "completed"
    },
    "tags": []
   },
   "outputs": [
    {
     "data": {
      "text/plain": [
       "<Axes: xlabel='Date'>"
      ]
     },
     "execution_count": 7,
     "metadata": {},
     "output_type": "execute_result"
    },
    {
     "data": {
      "image/png": "[encoded data removed]",
      "text/plain": [
       "<Figure size 640x480 with 1 Axes>"
      ]
     },
     "metadata": {},
     "output_type": "display_data"
    }
   ],
   "source": [
    "df['Volatility'].plot()"
   ]
  },
  {
   "cell_type": "code",
   "execution_count": 8,
   "id": "0e1d65e0",
   "metadata": {
    "execution": {
     "iopub.execute_input": "2023-10-09T04:21:24.477177Z",
     "iopub.status.busy": "2023-10-09T04:21:24.476659Z",
     "iopub.status.idle": "2023-10-09T04:21:26.114274Z",
     "shell.execute_reply": "2023-10-09T04:21:26.112478Z"
    },
    "papermill": {
     "duration": 1.649706,
     "end_time": "2023-10-09T04:21:26.116815",
     "exception": false,
     "start_time": "2023-10-09T04:21:24.467109",
     "status": "completed"
    },
    "tags": []
   },
   "outputs": [
    {
     "name": "stdout",
     "output_type": "stream",
     "text": [
      "Iteration:      1,   Func. Count:      6,   Neg. LLF: 6842828.558916865\n",
      "Iteration:      2,   Func. Count:     16,   Neg. LLF: 3783.792544026751\n",
      "Iteration:      3,   Func. Count:     22,   Neg. LLF: -253.4133260065285\n",
      "Iteration:      4,   Func. Count:     28,   Neg. LLF: -266.2729002458283\n",
      "Iteration:      5,   Func. Count:     34,   Neg. LLF: -139.05733510685954\n",
      "Iteration:      6,   Func. Count:     41,   Neg. LLF: -271.0847058832401\n",
      "Iteration:      7,   Func. Count:     46,   Neg. LLF: -263.01853303279546\n",
      "Iteration:      8,   Func. Count:     52,   Neg. LLF: -270.6030874180051\n",
      "Iteration:      9,   Func. Count:     58,   Neg. LLF: -271.6167510157582\n",
      "Iteration:     10,   Func. Count:     63,   Neg. LLF: -271.6521594507927\n",
      "Iteration:     11,   Func. Count:     68,   Neg. LLF: -271.6544481786859\n",
      "Iteration:     12,   Func. Count:     73,   Neg. LLF: -271.65453311500596\n",
      "Iteration:     13,   Func. Count:     77,   Neg. LLF: -271.65453321165285\n",
      "Optimization terminated successfully    (Exit mode 0)\n",
      "            Current function value: -271.65453311500596\n",
      "            Iterations: 13\n",
      "            Function evaluations: 77\n",
      "            Gradient evaluations: 13\n"
     ]
    },
    {
     "name": "stderr",
     "output_type": "stream",
     "text": [
      "/opt/conda/lib/python3.10/site-packages/arch/univariate/base.py:310: DataScaleWarning: y is poorly scaled, which may affect convergence of the optimizer when\n",
      "estimating the model parameters. The scale of y is 0.01011. Parameter\n",
      "estimation work better when this value is between 1 and 1000. The recommended\n",
      "rescaling is 10 * y.\n",
      "\n",
      "This warning can be disabled by either rescaling y before initializing the\n",
      "model or by setting rescale=False.\n",
      "\n",
      "  warnings.warn(\n"
     ]
    }
   ],
   "source": [
    "from arch import arch_model\n",
    "\n",
    "model = arch_model(df['Volatility'], vol = 'Garch', p =1, q=1)\n",
    "\n",
    "model_fit = model.fit()"
   ]
  },
  {
   "cell_type": "code",
   "execution_count": 9,
   "id": "11e5067f",
   "metadata": {
    "execution": {
     "iopub.execute_input": "2023-10-09T04:21:26.135047Z",
     "iopub.status.busy": "2023-10-09T04:21:26.134274Z",
     "iopub.status.idle": "2023-10-09T04:21:26.735499Z",
     "shell.execute_reply": "2023-10-09T04:21:26.734416Z"
    },
    "papermill": {
     "duration": 0.612696,
     "end_time": "2023-10-09T04:21:26.737511",
     "exception": false,
     "start_time": "2023-10-09T04:21:26.124815",
     "status": "completed"
    },
    "tags": []
   },
   "outputs": [
    {
     "data": {
      "image/png": "[encoded data removed]",
      "text/plain": [
       "<Figure size 1000x600 with 1 Axes>"
      ]
     },
     "metadata": {},
     "output_type": "display_data"
    }
   ],
   "source": [
    "forecast =  model_fit.forecast(start = 0, horizon = 50)\n",
    "forecasted_variance = forecast.variance[-1:]\n",
    "plt.figure(figsize=(10,6))\n",
    "plt.plot(forecasted_variance.T\n",
    "        )\n",
    "plt.title('50 Day Forecast Variance')\n",
    "plt.show()\n"
   ]
  },
  {
   "cell_type": "code",
   "execution_count": null,
   "id": "dd04318d",
   "metadata": {
    "papermill": {
     "duration": null,
     "end_time": null,
     "exception": null,
     "start_time": null,
     "status": "pending"
    },
    "tags": []
   },
   "outputs": [],
   "source": []
  }
 ],
 "metadata": {
  "kernelspec": {
   "display_name": "Python 3",
   "language": "python",
   "name": "python3"
  },
  "language_info": {
   "codemirror_mode": {
    "name": "ipython",
    "version": 3
   },
   "file_extension": ".py",
   "mimetype": "text/x-python",
   "name": "python",
   "nbconvert_exporter": "python",
   "pygments_lexer": "ipython3",
   "version": "3.10.12"
  },
  "papermill": {
   "default_parameters": {},
   "duration": 43.328352,
   "end_time": "2023-10-09T04:21:28.859527",
   "environment_variables": {},
   "exception": true,
   "input_path": "__notebook__.ipynb",
   "output_path": "__notebook__.ipynb",
   "parameters": {},
   "start_time": "2023-10-09T04:20:45.531175",
   "version": "2.4.0"
  }
 },
 "nbformat": 4,
 "nbformat_minor": 5
}
